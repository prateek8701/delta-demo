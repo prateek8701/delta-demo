{
  "nbformat": 4,
  "nbformat_minor": 0,
  "metadata": {
    "colab": {
      "provenance": [],
      "authorship_tag": "ABX9TyMkQkczBVinoEHnCjjpZqSz",
      "include_colab_link": true
    },
    "kernelspec": {
      "name": "python3",
      "display_name": "Python 3"
    },
    "language_info": {
      "name": "python"
    }
  },
  "cells": [
    {
      "cell_type": "markdown",
      "metadata": {
        "id": "view-in-github",
        "colab_type": "text"
      },
      "source": [
        "<a href=\"https://colab.research.google.com/github/prateek8701/delta-demo/blob/main/pytorch_neural_network.ipynb\" target=\"_parent\"><img src=\"https://colab.research.google.com/assets/colab-badge.svg\" alt=\"Open In Colab\"/></a>"
      ]
    },
    {
      "cell_type": "code",
      "execution_count": null,
      "metadata": {
        "id": "eKZ9WhsEM3Ry",
        "colab": {
          "base_uri": "https://localhost:8080/"
        },
        "outputId": "48af070a-7724-4fe8-c8a9-8df3d319228b"
      },
      "outputs": [
        {
          "output_type": "stream",
          "name": "stdout",
          "text": [
            "CircleModelV0(\n",
            "  (layer_1): Linear(in_features=2, out_features=5, bias=True)\n",
            "  (layer_2): Linear(in_features=5, out_features=1, bias=True)\n",
            ")\n"
          ]
        }
      ],
      "source": [
        "import torch\n",
        "from torch import nn\n",
        "\n",
        "\n",
        "class CircleModelV0(nn.Module):\n",
        "    def __init__(self):\n",
        "        super().__init__()\n",
        "\n",
        "\n",
        "        self.layer_1 = nn.Linear(in_features=2, out_features=5)\n",
        "        self.layer_2 = nn.Linear(in_features=5, out_features=1)\n",
        "\n",
        "    def forward(self, x):\n",
        "        x = self.layer_1(x)\n",
        "        x = self.layer_2(x)\n",
        "        return x\n",
        "\n",
        "\n",
        "device = \"cuda\" if torch.cuda.is_available() else \"cpu\"\n",
        "\n",
        "model_0 = CircleModelV0().to(device)\n",
        "\n",
        "print(model_0)\n",
        "\n",
        "\n"
      ]
    },
    {
      "cell_type": "code",
      "source": [
        "import torch\n",
        "from torch import nn\n",
        "\n",
        "model_0 = nn.Sequential(\n",
        "    nn.Linear(in_features=2, out_features=5),\n",
        "\n",
        "    nn.Linear(in_features=5, out_features=1)\n",
        ").to(device)\n",
        "\n",
        "\n",
        "print(model_0)\n"
      ],
      "metadata": {
        "colab": {
          "base_uri": "https://localhost:8080/"
        },
        "id": "13D-LlQTmJ-D",
        "outputId": "bc41fa84-cc93-430c-86b6-9323154b042a"
      },
      "execution_count": null,
      "outputs": [
        {
          "output_type": "stream",
          "name": "stdout",
          "text": [
            "Sequential(\n",
            "  (0): Linear(in_features=2, out_features=5, bias=True)\n",
            "  (1): Linear(in_features=5, out_features=1, bias=True)\n",
            ")\n"
          ]
        }
      ]
    },
    {
      "cell_type": "code",
      "source": [
        "model_0.state_dict()"
      ],
      "metadata": {
        "colab": {
          "base_uri": "https://localhost:8080/"
        },
        "id": "1Y0niPxzmC1l",
        "outputId": "2c5cc21c-9601-42f8-f5a7-f0b87bc331e9"
      },
      "execution_count": null,
      "outputs": [
        {
          "output_type": "execute_result",
          "data": {
            "text/plain": [
              "OrderedDict([('0.weight',\n",
              "              tensor([[-0.3761,  0.3206],\n",
              "                      [-0.1652,  0.3791],\n",
              "                      [-0.0198,  0.4637],\n",
              "                      [ 0.3194, -0.3877],\n",
              "                      [ 0.2680, -0.4257]])),\n",
              "             ('0.bias', tensor([-0.0622, -0.3894,  0.5088, -0.3347,  0.5345])),\n",
              "             ('1.weight',\n",
              "              tensor([[ 0.3928,  0.1189, -0.2197, -0.1204, -0.0411]])),\n",
              "             ('1.bias', tensor([-0.3602]))])"
            ]
          },
          "metadata": {},
          "execution_count": 8
        }
      ]
    },
    {
      "cell_type": "code",
      "source": [
        "import torch\n",
        "from torch import nn\n",
        "\n",
        "# Define the loss function\n",
        "loss_fn = nn.BCEWithLogitsLoss()\n",
        "\n",
        "# Assuming you have a model called 'model_0', set up the optimizer\n",
        "optimizer = torch.optim.SGD(params=model_0.parameters(), lr=0.1)\n",
        "\n",
        "# Example of how to use the loss function and optimizer in a training loop\n",
        "# model_0: Your neural network model\n",
        "# X: Input data\n",
        "# y: Target labels\n",
        "\n",
        "# Forward pass: Compute predictions and loss\n",
        "predictions = model_0(X)\n",
        "loss = loss_fn(predictions, y)\n",
        "\n",
        "# Backward pass: Compute gradients and update parameters\n",
        "loss.backward()      # Compute gradients\n",
        "optimizer.step()     # Update model parameters\n",
        "optimizer.zero_grad() # Clear the gradients before the next step\n",
        "\n",
        "print(f\"Loss: {loss.item()}\")\n"
      ],
      "metadata": {
        "id": "Sb-bnhmApoAC",
        "colab": {
          "base_uri": "https://localhost:8080/",
          "height": 216
        },
        "outputId": "e18900ba-26cd-4a82-fb01-f626c888772b"
      },
      "execution_count": 4,
      "outputs": [
        {
          "output_type": "error",
          "ename": "NameError",
          "evalue": "name 'model_0' is not defined",
          "traceback": [
            "\u001b[0;31m---------------------------------------------------------------------------\u001b[0m",
            "\u001b[0;31mNameError\u001b[0m                                 Traceback (most recent call last)",
            "\u001b[0;32m<ipython-input-4-25727441c090>\u001b[0m in \u001b[0;36m<cell line: 8>\u001b[0;34m()\u001b[0m\n\u001b[1;32m      6\u001b[0m \u001b[0;34m\u001b[0m\u001b[0m\n\u001b[1;32m      7\u001b[0m \u001b[0;31m# Assuming you have a model called 'model_0', set up the optimizer\u001b[0m\u001b[0;34m\u001b[0m\u001b[0;34m\u001b[0m\u001b[0m\n\u001b[0;32m----> 8\u001b[0;31m \u001b[0moptimizer\u001b[0m \u001b[0;34m=\u001b[0m \u001b[0mtorch\u001b[0m\u001b[0;34m.\u001b[0m\u001b[0moptim\u001b[0m\u001b[0;34m.\u001b[0m\u001b[0mSGD\u001b[0m\u001b[0;34m(\u001b[0m\u001b[0mparams\u001b[0m\u001b[0;34m=\u001b[0m\u001b[0mmodel_0\u001b[0m\u001b[0;34m.\u001b[0m\u001b[0mparameters\u001b[0m\u001b[0;34m(\u001b[0m\u001b[0;34m)\u001b[0m\u001b[0;34m,\u001b[0m \u001b[0mlr\u001b[0m\u001b[0;34m=\u001b[0m\u001b[0;36m0.1\u001b[0m\u001b[0;34m)\u001b[0m\u001b[0;34m\u001b[0m\u001b[0;34m\u001b[0m\u001b[0m\n\u001b[0m\u001b[1;32m      9\u001b[0m \u001b[0;34m\u001b[0m\u001b[0m\n\u001b[1;32m     10\u001b[0m \u001b[0;31m# Example of how to use the loss function and optimizer in a training loop\u001b[0m\u001b[0;34m\u001b[0m\u001b[0;34m\u001b[0m\u001b[0m\n",
            "\u001b[0;31mNameError\u001b[0m: name 'model_0' is not defined"
          ]
        }
      ]
    },
    {
      "cell_type": "code",
      "source": [],
      "metadata": {
        "id": "UfpM8IKTwzZs"
      },
      "execution_count": null,
      "outputs": []
    }
  ]
}